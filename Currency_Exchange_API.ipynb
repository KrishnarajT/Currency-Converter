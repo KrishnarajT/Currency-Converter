{
 "cells": [
  {
   "cell_type": "markdown",
   "metadata": {},
   "source": [
    "visit exchangeratesapi.com"
   ]
  },
  {
   "cell_type": "code",
   "execution_count": null,
   "metadata": {},
   "outputs": [],
   "source": [
    "import requests\n",
    "import json\n",
    "import os\n",
    "import PIL\n",
    "import urllib\n",
    "from datetime import date, time, datetime\n",
    "\n",
    "\n",
    "# Basic function to clean up output\n",
    "def jprint(obj):\n",
    "    # create a formatted string of the Python JSON object\n",
    "    text = json.dumps(obj, sort_keys=True, indent=4)\n",
    "    print(text)\n",
    "    \n",
    "    \n",
    "# Getting the API Key into the script\n",
    "with open(os.path.join(os.getcwd(), \"My_API_KEY\"), 'r') as file:\n",
    "    my_api_key = file.read()\n",
    "    "
   ]
  },
  {
   "cell_type": "code",
   "execution_count": null,
   "metadata": {},
   "outputs": [],
   "source": [
    "p = {\n",
    "    'base': 'INR'\n",
    "}"
   ]
  },
  {
   "cell_type": "code",
   "execution_count": null,
   "metadata": {},
   "outputs": [],
   "source": [
    "r = requests.get('http://api.exchangeratesapi.io/v1/2002-12-02?access_key=3e91747bbfd5f77451e6279996c9616a')"
   ]
  },
  {
   "cell_type": "code",
   "execution_count": null,
   "metadata": {},
   "outputs": [
    {
     "data": {
      "text/plain": [
       "<Response [200]>"
      ]
     },
     "metadata": {},
     "output_type": "display_data"
    }
   ],
   "source": [
    "r"
   ]
  },
  {
   "cell_type": "code",
   "execution_count": null,
   "metadata": {},
   "outputs": [
    {
     "data": {
      "text/plain": [
       "{'success': True,\n",
       " 'timestamp': 1038873599,\n",
       " 'historical': True,\n",
       " 'base': 'EUR',\n",
       " 'date': '2002-12-02',\n",
       " 'rates': {'AED': 3.650499,\n",
       "  'ALL': 135.317024,\n",
       "  'AMD': 560.230102,\n",
       "  'ANG': 1.779296,\n",
       "  'ARS': 3.599427,\n",
       "  'AUD': 1.776625,\n",
       "  'AWG': 1.779296,\n",
       "  'BBD': 1.98804,\n",
       "  'BDT': 57.86594,\n",
       "  'BGN': 1.96893,\n",
       "  'BHD': 0.374249,\n",
       "  'BIF': 1031.843287,\n",
       "  'BMD': 0.99402,\n",
       "  'BND': 1.769236,\n",
       "  'BOB': 7.477374,\n",
       "  'BRL': 3.606429,\n",
       "  'BSD': 0.99402,\n",
       "  'BTN': 48.40981,\n",
       "  'BWP': 5.733283,\n",
       "  'BYR': 1915.625833,\n",
       "  'BZD': 1.98804,\n",
       "  'CAD': 1.548278,\n",
       "  'CDF': 399.480022,\n",
       "  'CHF': 1.47703,\n",
       "  'CLP': 701.801584,\n",
       "  'CNY': 8.226468,\n",
       "  'COP': 2798.569789,\n",
       "  'CRC': 376.846457,\n",
       "  'CVE': 111.034982,\n",
       "  'CZK': 30.994593,\n",
       "  'DJF': 176.658224,\n",
       "  'DKK': 7.462978,\n",
       "  'DOP': 20.093387,\n",
       "  'DZD': 79.917958,\n",
       "  'EGP': 4.627073,\n",
       "  'ETB': 8.543084,\n",
       "  'EUR': 1,\n",
       "  'FJD': 2.131227,\n",
       "  'FKP': 0.640318,\n",
       "  'GBP': 0.639989,\n",
       "  'GEL': 2.207176,\n",
       "  'GIP': 0.641678,\n",
       "  'GMD': 22.458145,\n",
       "  'GNF': 1978.302161,\n",
       "  'GTQ': 7.633169,\n",
       "  'GYD': 178.762474,\n",
       "  'HKD': 7.752365,\n",
       "  'HNL': 16.903174,\n",
       "  'HRK': 7.471889,\n",
       "  'HTG': 36.013612,\n",
       "  'HUF': 238.05067,\n",
       "  'IDR': 8969.775661,\n",
       "  'ILS': 4.622797,\n",
       "  'INR': 48.086448,\n",
       "  'IQD': 3120.477209,\n",
       "  'IRR': 8052.901128,\n",
       "  'ISK': 85.545534,\n",
       "  'JMD': 50.045296,\n",
       "  'JOD': 0.705009,\n",
       "  'JPY': 123.902204,\n",
       "  'KES': 79.437398,\n",
       "  'KGS': 46.947933,\n",
       "  'KHR': 3830.053324,\n",
       "  'KMF': 495.416897,\n",
       "  'KPW': 2.208283,\n",
       "  'KRW': 1200.249191,\n",
       "  'KWD': 0.301602,\n",
       "  'KZT': 154.768437,\n",
       "  'LAK': 10809.874088,\n",
       "  'LBP': 1506.324456,\n",
       "  'LKR': 96.292063,\n",
       "  'LSL': 9.322922,\n",
       "  'LTL': 3.476301,\n",
       "  'LVL': 0.60179,\n",
       "  'LYD': 1.251623,\n",
       "  'MAD': 10.602561,\n",
       "  'MDL': 13.93058,\n",
       "  'MKD': 61.79459,\n",
       "  'MMK': 6.474855,\n",
       "  'MNT': 1121.527634,\n",
       "  'MOP': 7.984628,\n",
       "  'MRO': 264.735987,\n",
       "  'MUR': 29.658672,\n",
       "  'MVR': 11.699615,\n",
       "  'MWK': 82.79841,\n",
       "  'MXN': 10.066919,\n",
       "  'MYR': 3.77802,\n",
       "  'NAD': 9.268272,\n",
       "  'NGN': 128.185376,\n",
       "  'NIO': 14.603665,\n",
       "  'NOK': 7.298289,\n",
       "  'NPR': 76.784544,\n",
       "  'NZD': 1.993065,\n",
       "  'OMR': 0.382198,\n",
       "  'PAB': 0.99402,\n",
       "  'PEN': 3.510802,\n",
       "  'PGK': 3.99472,\n",
       "  'PHP': 53.329032,\n",
       "  'PKR': 58.028991,\n",
       "  'PLN': 3.979705,\n",
       "  'PYG': 6950.758444,\n",
       "  'QAR': 3.618233,\n",
       "  'RON': 3.355676,\n",
       "  'RUB': 31.835678,\n",
       "  'RWF': 484.377043,\n",
       "  'SAR': 3.727341,\n",
       "  'SBD': 7.316162,\n",
       "  'SCR': 5.638734,\n",
       "  'SEK': 9.039787,\n",
       "  'SGD': 1.761095,\n",
       "  'SHP': 0.640318,\n",
       "  'SLL': 2058.067455,\n",
       "  'SOS': 2616.595709,\n",
       "  'STD': 9053.245129,\n",
       "  'SVC': 8.78247,\n",
       "  'SYP': 51.435877,\n",
       "  'SZL': 9.325833,\n",
       "  'THB': 43.477091,\n",
       "  'TJS': 2.963742,\n",
       "  'TND': 1.386945,\n",
       "  'TOP': 2.221233,\n",
       "  'TRY': 1.520899,\n",
       "  'TTD': 6.213122,\n",
       "  'TWD': 34.690007,\n",
       "  'TZS': 991.706872,\n",
       "  'UAH': 5.46561,\n",
       "  'UGX': 1831.197872,\n",
       "  'USD': 0.99402,\n",
       "  'UZS': 1831.902988,\n",
       "  'VEF': 1.316559,\n",
       "  'VND': 15444.226627,\n",
       "  'VUV': 145.340316,\n",
       "  'WST': 3.517498,\n",
       "  'XAF': 657.161208,\n",
       "  'XCD': 2.710056,\n",
       "  'XDR': 0.760951,\n",
       "  'XOF': 660.555528,\n",
       "  'XPF': 120.168264,\n",
       "  'YER': 165.668317,\n",
       "  'ZAR': 9.186979,\n",
       "  'ZMK': 4981.830292}}"
      ]
     },
     "metadata": {},
     "output_type": "display_data"
    }
   ],
   "source": [
    "r.json()"
   ]
  },
  {
   "cell_type": "markdown",
   "metadata": {},
   "source": [
    "Error Codes\n",
    "If your query fails, we will return a 3-digit error-code that indicates the problem that has led to the failure.\n",
    "\n",
    "STATUS CODE\tCOMMENT\n",
    "200\tSuccessful Request\n",
    "429\tYou have hit your rate-limit\n",
    "404\tA requested resource does not exist\n",
    "500\tInternal Server Error - let us know: freecurrencyapidotnet.net\n",
    "GET\n",
    "Latest Rates: https://freecurrencyapi.net/api/v2/latest\n",
    "Returns the latest exchange rates. We update the data every 30 seconds. Keep in mind that some currencies might be updated less often.\n",
    "\n",
    "Request Parameters:\n",
    "PARAMETER\tREQUIRED\tTYPE\tCOMMENT\n",
    "apikey\tfalse\tstring\tyou can make 10 requests without apikey before running into a rate limit.\n",
    "base_currency\tfalse\tstring\tThe default base currency is 'USD'.\n",
    "GET\n",
    "Historical Rates: https://freecurrencyapi.net/api/v2/historical\n",
    "Returns exchange rates for a given time range. Generally, we provide data going back to 1999.\n",
    "\n",
    "Request Parameters:\n",
    "PARAMETER\tREQUIRED\tTYPE\tCOMMENT\n",
    "apikey\tfalse\tstring\tyou can make 10 requests without apikey before running into a rate limit.\n",
    "base_currency\tfalse\tstring\tThe default base currency is 'USD'.\n",
    "date_from\tfalse\tstring (format: Y-m-d)\tThe start date of your timeframe\n",
    "date_to\tfalse\tstring (format: Y-m-d)\tThe end date of your timeframe"
   ]
  },
  {
   "cell_type": "markdown",
   "metadata": {},
   "source": [
    "curl \"https://freecurrencyapi.net/api/v2/historical?apikey=YOUR-APIKEY&base_currency=USD&date_from=2020-10-01&date_to=2022-02-07\"\n"
   ]
  },
  {
   "cell_type": "markdown",
   "metadata": {},
   "source": [
    "curl \"https://freecurrencyapi.net/api/v2/latest?apikey=YOUR-APIKEY&base_currency=USD\"\n"
   ]
  },
  {
   "cell_type": "markdown",
   "metadata": {},
   "source": [
    "curl \"https://freecurrencyapi.net/api/v2/latest?apikey=YOUR-APIKEY\"\n"
   ]
  },
  {
   "cell_type": "markdown",
   "metadata": {},
   "source": []
  }
 ],
 "metadata": {
  "language_info": {
   "name": "python"
  },
  "orig_nbformat": 4
 },
 "nbformat": 4,
 "nbformat_minor": 2
}
